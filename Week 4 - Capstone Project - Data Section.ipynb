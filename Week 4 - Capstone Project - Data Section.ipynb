{
    "cells": [
        {
            "metadata": {
                "collapsed": true
            },
            "cell_type": "markdown",
            "source": "# Data Description "
        },
        {
            "metadata": {},
            "cell_type": "markdown",
            "source": "Our data source would be <a href=https://en.wikipedia.org/w/index.php?title=List_of_postal_codes_of_Canada:_M&oldid=1011037969>Canada Postal Codes</a>\n        \nWe will scrap the data pertaining to the location \"Downtown Toronto\" and use the following libraries to resolve the problem:\n\n1. JSON/XML\n2. Foursquare\n3. Pandas\n4. Scikit Learn\n5. Folium\n6. Geocoder\n7. Beautiful Soup, Requests\n8. Matplotlib: Python Plotting Module."
        }
    ],
    "metadata": {
        "kernelspec": {
            "name": "python3",
            "display_name": "Python 3.7",
            "language": "python"
        },
        "language_info": {
            "name": "python",
            "version": "3.7.10",
            "mimetype": "text/x-python",
            "codemirror_mode": {
                "name": "ipython",
                "version": 3
            },
            "pygments_lexer": "ipython3",
            "nbconvert_exporter": "python",
            "file_extension": ".py"
        }
    },
    "nbformat": 4,
    "nbformat_minor": 1
}