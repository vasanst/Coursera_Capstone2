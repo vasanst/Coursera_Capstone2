{
    "cells": [
        {
            "metadata": {
                "collapsed": true
            },
            "cell_type": "markdown",
            "source": "# Capstone Project - Finding a suitable place with Veg restaurants nearby - Final Report"
        },
        {
            "metadata": {},
            "cell_type": "markdown",
            "source": "## Introduction/Business Problem"
        },
        {
            "metadata": {},
            "cell_type": "markdown",
            "source": "Raj, who is based out of Chennai,India, is working in an MNC IT firm.  He is unmarried and stays at a shared accommodation with his friends.  \nBased on his performance, he is provided with an opportunity to migrate to Canada on work permit for a prestigious multi year project, that is expected to last 10 years.  The company has the office setup in Toronto (Downtown Toronto).  Raj is very much excited about this project and migration to Canada, but at the same time, he is concerned about the food choices that Toronto has to offer, as he is a pure vegetarian by birth.  \n\nHis only concern is that he wants to find a place where his place of stay is very close to Vegetarian/Vegan restaurants in particular.\n\n<b>The objective of this project is to solve Raj's problem, by exploring and comparing the nearby places, where there are Vegetarian/Vegan restaurants nearby, where he can put himself up, during his stay at Canada"
        },
        {
            "metadata": {},
            "cell_type": "markdown",
            "source": "## Data Section"
        },
        {
            "metadata": {},
            "cell_type": "markdown",
            "source": "Our data source would be <a href=\"https://en.wikipedia.org/w/index.php?title=List_of_postal_codes_of_Canada:_M&oldid=1011037969\">Canada Postal Codes</a>\n        \nWe will scrap the data pertaining to the location \"Downtown Toronto\" and use the following libraries to resolve the problem:\n\n1. JSON/XML\n2. Foursquare\n3. Pandas\n4. Scikit Learn\n5. Folium\n6. Geocoder\n7. Beautiful Soup, Requests\n8. Matplotlib: Python Plotting Module."
        },
        {
            "metadata": {},
            "cell_type": "markdown",
            "source": "### Downtown Toronto - Data"
        },
        {
            "metadata": {},
            "cell_type": "markdown",
            "source": "<img src=\"https://github.com/vasanst/Coursera_Capstone2/blob/master/images/DT_Table_Data.png?raw=true\"></img>"
        },
        {
            "metadata": {},
            "cell_type": "markdown",
            "source": "### Downtown Toronto - Map"
        },
        {
            "metadata": {},
            "cell_type": "markdown",
            "source": "<img src=\"https://github.com/vasanst/Coursera_Capstone2/blob/master/images/DT_Map_Data.png?raw=true\"></img>"
        },
        {
            "metadata": {},
            "cell_type": "markdown",
            "source": "## Methodology\n\n### Clustering Approach through K-Means"
        },
        {
            "metadata": {},
            "cell_type": "markdown",
            "source": "In order to zero-in on the neighbourhood where Vegetarian/Vegan restaurants are nearby, we need to group the venues into clusters through a clustering approach.  The approach that is commonly used is K-Means algorithm which is a kind of unsupervised learning.\n\nWe also used Foursquare API for mining the near-by restaurants of the neighbourhoods"
        },
        {
            "metadata": {},
            "cell_type": "markdown",
            "source": "### Here is a code snippet that creates 7 different clusters with associated labelling"
        },
        {
            "metadata": {},
            "cell_type": "markdown",
            "source": "<img src=\"https://github.com/vasanst/Coursera_Capstone2/blob/master/images/K-means-cluster-7.png?raw=true\"/>"
        },
        {
            "metadata": {},
            "cell_type": "markdown",
            "source": "<img src=\"https://github.com/vasanst/Coursera_Capstone2/blob/master/images/K-means-cluster-Labels.png?raw=true\"/>"
        },
        {
            "metadata": {},
            "cell_type": "markdown",
            "source": "### Displaying most common venues near the neighbourhood"
        },
        {
            "metadata": {},
            "cell_type": "markdown",
            "source": "<img src=\"https://github.com/vasanst/Coursera_Capstone2/blob/master/images/K-means-most-common-venues.png?raw=true\"/>"
        },
        {
            "metadata": {},
            "cell_type": "markdown",
            "source": "## Results Section"
        },
        {
            "metadata": {},
            "cell_type": "markdown",
            "source": "### Visualization of the Clusters\n\n<img src=\"https://github.com/vasanst/Coursera_Capstone2/blob/master/images/K-means-cluster-visualization.png?raw=true\"/>"
        },
        {
            "metadata": {},
            "cell_type": "markdown",
            "source": "### Finding the Cluster that is suitable for Raj's stay in Toronto, Canada\n\nOf all the 7 clusters, we see that Cluster 2 has the second most common venue as Vegetarian/Vegan restaurant. So, we can conclude that this cluster could be an ideal place for Raj's stay\n\n<img src=\"https://github.com/vasanst/Coursera_Capstone2/blob/master/images/Examine-Cluster-2.png?raw=true\"/>"
        },
        {
            "metadata": {},
            "cell_type": "markdown",
            "source": "## Discussion Section"
        },
        {
            "metadata": {},
            "cell_type": "markdown",
            "source": "The objective of this project is to solve Raj's problem, by exploring and comparing the nearby places, where there are Vegetarian/Vegan restaurants nearby, where he can put himself up, during his stay at Canada.\n\nThe availability of data did create a bottleneck as the Wikipedia source for Toronto postal codes suddenly changed midway, and I have to look out for alternatives that consumed quite a lot of time.  I then explored the history of that Wiki page and was able to find the previous version, which I ultimately used in completing this project.\n\nThat minor glitch apart, throughout this project, problem solving was a breeze mainly due to the plethora of libraries that Python has offered for various tasks like, mining, extracting, transforming and visualizing the data.  I gained tremendous amount of experience throughout the course and I thank Coursera for that."
        },
        {
            "metadata": {},
            "cell_type": "markdown",
            "source": "## Conclusion Section"
        },
        {
            "metadata": {},
            "cell_type": "markdown",
            "source": "The business problem identified during the beginning of the project has been successfully achieved.  Raj can now have a sigh of relief as he no longer has to worry about his place of dwelling.  Raj must definitely be pleased with the outcome of this project.\n\n### Thank you !"
        }
    ],
    "metadata": {
        "kernelspec": {
            "name": "python3",
            "display_name": "Python 3.7",
            "language": "python"
        },
        "language_info": {
            "name": "python",
            "version": "3.7.10",
            "mimetype": "text/x-python",
            "codemirror_mode": {
                "name": "ipython",
                "version": 3
            },
            "pygments_lexer": "ipython3",
            "nbconvert_exporter": "python",
            "file_extension": ".py"
        }
    },
    "nbformat": 4,
    "nbformat_minor": 1
}