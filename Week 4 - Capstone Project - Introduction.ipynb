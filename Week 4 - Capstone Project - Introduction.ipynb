{
    "cells": [
        {
            "metadata": {
                "collapsed": true
            },
            "cell_type": "markdown",
            "source": "# Introduction/Business Problem"
        },
        {
            "metadata": {},
            "cell_type": "markdown",
            "source": "Raj, who is based out of Chennai,India, is working in an MNC IT firm.  He is unmarried and stays at a shared accommodation with his friends.  \nBased on his performance, he is provided with an opportunity to migrate to Canada on work permit for a prestigious multi year project, that is expected to last 10 years.  The company has the office setup in Toronto (Downtown Toronto).  Raj is very much excited about this project and migration to Canada, but at the same time, he is concerned about the food choices that Toronto has to offer, as he is a pure vegetarian by birth.  \n\nHis only concern is that he wants to find a place where his place of stay is very close to Indian restaurants in particular.\n\n<b>The objective of this project is to solve Raj's problem, by exploring and comparing the nearby places, where there are Indian restaurants nearby, where he can put himself up, during his stay at Canada"
        }
    ],
    "metadata": {
        "kernelspec": {
            "name": "python3",
            "display_name": "Python 3.7",
            "language": "python"
        },
        "language_info": {
            "name": "python",
            "version": "3.7.10",
            "mimetype": "text/x-python",
            "codemirror_mode": {
                "name": "ipython",
                "version": 3
            },
            "pygments_lexer": "ipython3",
            "nbconvert_exporter": "python",
            "file_extension": ".py"
        }
    },
    "nbformat": 4,
    "nbformat_minor": 1
}